{
 "cells": [
  {
   "cell_type": "code",
   "execution_count": 1,
   "metadata": {},
   "outputs": [],
   "source": [
    "import pandas as pd"
   ]
  },
  {
   "cell_type": "code",
   "execution_count": 2,
   "metadata": {},
   "outputs": [],
   "source": [
    "data = pd.read_csv(\"../cleaned_tweets.csv\")"
   ]
  },
  {
   "cell_type": "code",
   "execution_count": 3,
   "metadata": {},
   "outputs": [
    {
     "data": {
      "text/html": [
       "<div>\n",
       "<style scoped>\n",
       "    .dataframe tbody tr th:only-of-type {\n",
       "        vertical-align: middle;\n",
       "    }\n",
       "\n",
       "    .dataframe tbody tr th {\n",
       "        vertical-align: top;\n",
       "    }\n",
       "\n",
       "    .dataframe thead th {\n",
       "        text-align: right;\n",
       "    }\n",
       "</style>\n",
       "<table border=\"1\" class=\"dataframe\">\n",
       "  <thead>\n",
       "    <tr style=\"text-align: right;\">\n",
       "      <th></th>\n",
       "      <th>tweet</th>\n",
       "      <th>class</th>\n",
       "      <th>language</th>\n",
       "    </tr>\n",
       "  </thead>\n",
       "  <tbody>\n",
       "    <tr>\n",
       "      <th>0</th>\n",
       "      <td>did my software training and 4 hours of shadow...</td>\n",
       "      <td>ADHD</td>\n",
       "      <td>English</td>\n",
       "    </tr>\n",
       "    <tr>\n",
       "      <th>1</th>\n",
       "      <td>the anxiety is high because im getting ready t...</td>\n",
       "      <td>ADHD</td>\n",
       "      <td>English</td>\n",
       "    </tr>\n",
       "    <tr>\n",
       "      <th>2</th>\n",
       "      <td>marked as toread what happened to you by bruce...</td>\n",
       "      <td>ADHD</td>\n",
       "      <td>English</td>\n",
       "    </tr>\n",
       "    <tr>\n",
       "      <th>3</th>\n",
       "      <td>my birthday is tomorrow so my mom got me birth...</td>\n",
       "      <td>ADHD</td>\n",
       "      <td>English</td>\n",
       "    </tr>\n",
       "    <tr>\n",
       "      <th>4</th>\n",
       "      <td>marked as 2022reads the boardwalk bookshop by ...</td>\n",
       "      <td>ADHD</td>\n",
       "      <td>English</td>\n",
       "    </tr>\n",
       "    <tr>\n",
       "      <th>...</th>\n",
       "      <td>...</td>\n",
       "      <td>...</td>\n",
       "      <td>...</td>\n",
       "    </tr>\n",
       "    <tr>\n",
       "      <th>7158173</th>\n",
       "      <td>nazi dice qué no es mejor jugar una partida qu...</td>\n",
       "      <td>SCHIZOPHRENIA</td>\n",
       "      <td>Spanish</td>\n",
       "    </tr>\n",
       "    <tr>\n",
       "      <th>7158174</th>\n",
       "      <td>o yo no see</td>\n",
       "      <td>SCHIZOPHRENIA</td>\n",
       "      <td>Spanish</td>\n",
       "    </tr>\n",
       "    <tr>\n",
       "      <th>7158175</th>\n",
       "      <td>vas a morir hdp</td>\n",
       "      <td>SCHIZOPHRENIA</td>\n",
       "      <td>Spanish</td>\n",
       "    </tr>\n",
       "    <tr>\n",
       "      <th>7158176</th>\n",
       "      <td>está me gustahttpsyoutubedr6iqxnu0wo</td>\n",
       "      <td>SCHIZOPHRENIA</td>\n",
       "      <td>Spanish</td>\n",
       "    </tr>\n",
       "    <tr>\n",
       "      <th>7158177</th>\n",
       "      <td>lele tenemos que hacer lo correcto</td>\n",
       "      <td>SCHIZOPHRENIA</td>\n",
       "      <td>Spanish</td>\n",
       "    </tr>\n",
       "  </tbody>\n",
       "</table>\n",
       "<p>7158178 rows × 3 columns</p>\n",
       "</div>"
      ],
      "text/plain": [
       "                                                     tweet          class  \\\n",
       "0        did my software training and 4 hours of shadow...           ADHD   \n",
       "1        the anxiety is high because im getting ready t...           ADHD   \n",
       "2        marked as toread what happened to you by bruce...           ADHD   \n",
       "3        my birthday is tomorrow so my mom got me birth...           ADHD   \n",
       "4        marked as 2022reads the boardwalk bookshop by ...           ADHD   \n",
       "...                                                    ...            ...   \n",
       "7158173  nazi dice qué no es mejor jugar una partida qu...  SCHIZOPHRENIA   \n",
       "7158174                                        o yo no see  SCHIZOPHRENIA   \n",
       "7158175                                    vas a morir hdp  SCHIZOPHRENIA   \n",
       "7158176               está me gustahttpsyoutubedr6iqxnu0wo  SCHIZOPHRENIA   \n",
       "7158177                 lele tenemos que hacer lo correcto  SCHIZOPHRENIA   \n",
       "\n",
       "        language  \n",
       "0        English  \n",
       "1        English  \n",
       "2        English  \n",
       "3        English  \n",
       "4        English  \n",
       "...          ...  \n",
       "7158173  Spanish  \n",
       "7158174  Spanish  \n",
       "7158175  Spanish  \n",
       "7158176  Spanish  \n",
       "7158177  Spanish  \n",
       "\n",
       "[7158178 rows x 3 columns]"
      ]
     },
     "execution_count": 3,
     "metadata": {},
     "output_type": "execute_result"
    }
   ],
   "source": [
    "data"
   ]
  },
  {
   "cell_type": "code",
   "execution_count": 4,
   "metadata": {},
   "outputs": [
    {
     "data": {
      "text/plain": [
       "language\n",
       "English    66.410782\n",
       "Spanish    33.589218\n",
       "Name: proportion, dtype: float64"
      ]
     },
     "execution_count": 4,
     "metadata": {},
     "output_type": "execute_result"
    }
   ],
   "source": [
    "data['language'].value_counts(normalize=True) * 100"
   ]
  },
  {
   "cell_type": "code",
   "execution_count": null,
   "metadata": {},
   "outputs": [],
   "source": []
  }
 ],
 "metadata": {
  "kernelspec": {
   "display_name": "mentalIllness",
   "language": "python",
   "name": "python3"
  },
  "language_info": {
   "codemirror_mode": {
    "name": "ipython",
    "version": 3
   },
   "file_extension": ".py",
   "mimetype": "text/x-python",
   "name": "python",
   "nbconvert_exporter": "python",
   "pygments_lexer": "ipython3",
   "version": "3.11.11"
  }
 },
 "nbformat": 4,
 "nbformat_minor": 2
}
